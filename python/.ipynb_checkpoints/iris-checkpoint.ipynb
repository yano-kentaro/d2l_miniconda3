{
 "cells": [
  {
   "cell_type": "code",
   "execution_count": 4,
   "id": "02abe432",
   "metadata": {},
   "outputs": [
    {
     "data": {
      "image/png": "[encoded data removed]",
      "text/plain": [
       "<Figure size 360x360 with 1 Axes>"
      ]
     },
     "metadata": {
      "needs_background": "light"
     },
     "output_type": "display_data"
    }
   ],
   "source": [
    "%matplotlib inline\n",
    "from sklearn import datasets\n",
    "import pandas as pd\n",
    "import matplotlib.pyplot as plt\n",
    "\n",
    "# sklearnでアヤメのデータセットを変数に格納\n",
    "iris = datasets.load_iris()\n",
    "\n",
    "# pandasでアヤメのデータセットをデータフレームに格納\n",
    "df = pd.DataFrame(iris.data)\n",
    "\n",
    "# データフレームのカラム名を変更\n",
    "df.columns = iris.feature_names\n",
    "# アヤメの品種を表示\n",
    "df[\"target\"] = iris.target\n",
    "\n",
    "#=================================================================1\n",
    "#\t\t\t\t\t\t\t\t\t\t\t\t一つの特徴をヒストグラムで表示\n",
    "#========================================================2021.12.19\n",
    "# v1: 単一情報からヒストグラムを表示\n",
    "\n",
    "# グラフサイズ設定\n",
    "plt.figure(figsize=(5,5))\n",
    "# アヤメの品種次第で格納するデータフレームを分岐\n",
    "df0 = df[df[\"target\"] == 0]\n",
    "df1 = df[df[\"target\"] == 1]\n",
    "df2 = df[df[\"target\"] == 2]\n",
    "# ラベル名の設定\n",
    "label = \"sepal width (cm)\"\n",
    "# ヒストグラム設定\n",
    "df0[label].hist(color=\"b\",alpha=0.5)\n",
    "df1[label].hist(color=\"r\",alpha=0.5)\n",
    "df2[label].hist(color=\"g\",alpha=0.5)\n",
    "# グラフラベル設定\n",
    "plt.xlabel(label)\n",
    "# グラフの表示\n",
    "plt.show()\n"
   ]
  },
  {
   "cell_type": "code",
   "execution_count": 3,
   "id": "53c7bfca",
   "metadata": {},
   "outputs": [],
   "source": [
    "%matplotlib inline\n",
    "from sklearn import datasets\n",
    "import pandas as pd\n",
    "import matplotlib.pyplot as plt\n",
    "\n",
    "# sklearnでアヤメのデータセットを変数に格納\n",
    "iris = datasets.load_iris()\n",
    "\n",
    "# pandasでアヤメのデータセットをデータフレームに格納\n",
    "df = pd.DataFrame(iris.data)\n",
    "\n",
    "# データフレームのカラム名を変更\n",
    "df.columns = iris.feature_names\n",
    "# アヤメの品種を表示\n",
    "df[\"target\"] = iris.target\n"
   ]
  }
 ],
 "metadata": {
  "kernelspec": {
   "display_name": "Python 3 (ipykernel)",
   "language": "python",
   "name": "python3"
  },
  "language_info": {
   "codemirror_mode": {
    "name": "ipython",
    "version": 3
   },
   "file_extension": ".py",
   "mimetype": "text/x-python",
   "name": "python",
   "nbconvert_exporter": "python",
   "pygments_lexer": "ipython3",
   "version": "3.9.0"
  }
 },
 "nbformat": 4,
 "nbformat_minor": 5
}
